{
 "cells": [
  {
   "cell_type": "markdown",
   "id": "00a57394-53dd-47cd-a5e7-6e7122bbb0f6",
   "metadata": {},
   "source": [
    "# SQL query from table names"
   ]
  },
  {
   "cell_type": "markdown",
   "id": "86bc2813-763c-49f2-9f5d-e1f87a20556f",
   "metadata": {
    "id": "86bc2813-763c-49f2-9f5d-e1f87a20556f"
   },
   "source": [
    "In This notebook we are going to test if using just the name of the table, and a shord definition of its contect we can use a model like GTP3.5-Turbo to select which tables are necessary to create a SQL Order to answer the user petition."
   ]
  },
  {
   "cell_type": "code",
   "execution_count": 1,
   "id": "7fbbdf5b-4d7f-4496-8f40-9d15ea46d023",
   "metadata": {
    "id": "7fbbdf5b-4d7f-4496-8f40-9d15ea46d023"
   },
   "outputs": [],
   "source": [
    "from openai import OpenAI\n",
    "import os\n",
    "from dotenv import load_dotenv, find_dotenv\n",
    "_ = load_dotenv(find_dotenv())\n",
    "\n",
    "OPENAI_API_KEY  = os.getenv('OPENAI_API_KEY')"
   ]
  },
  {
   "cell_type": "code",
   "execution_count": 2,
   "id": "e480bbfb-9a80-4ea6-b792-067e63ae3148",
   "metadata": {
    "id": "e480bbfb-9a80-4ea6-b792-067e63ae3148"
   },
   "outputs": [],
   "source": [
    "#Functio to call the model.\n",
    "def return_OAI(user_message):\n",
    "    client = OpenAI(\n",
    "    # This is the default and can be omitted\n",
    "    api_key=OPENAI_API_KEY,\n",
    ")\n",
    "    context = []\n",
    "    context.append({'role':'system', \"content\": user_message})\n",
    "\n",
    "    response = client.chat.completions.create(\n",
    "            model=\"gpt-3.5-turbo\",\n",
    "            messages=context,\n",
    "            temperature=0,\n",
    "        )\n",
    "\n",
    "    return (response.choices[0].message.content)"
   ]
  },
  {
   "cell_type": "code",
   "execution_count": 3,
   "id": "6d5d2bdc-d822-4ed8-815e-b3f223730f15",
   "metadata": {
    "id": "6d5d2bdc-d822-4ed8-815e-b3f223730f15",
    "outputId": "61068bf0-41e3-40d9-b453-b76da5b0f086"
   },
   "outputs": [
    {
     "name": "stdout",
     "output_type": "stream",
     "text": [
      "       table                                         definition\n",
      "0     Orders  Contains order details including order ID, cus...\n",
      "1  Customers  Stores customer details such as customer ID, n...\n",
      "2   Products  Includes product details such as product ID, n...\n"
     ]
    }
   ],
   "source": [
    "#Definition of the tables.\n",
    "import pandas as pd\n",
    "\n",
    "# Table and definitions sample\n",
    "data = {\n",
    "    'table': ['Orders', 'Customers', 'Products'],  \n",
    "    'definition': [\n",
    "        'Contains order details including order ID, customer ID, product ID, and order date.',\n",
    "        'Stores customer details such as customer ID, name, and contact information.',\n",
    "        'Includes product details such as product ID, name, price, and stock availability.'\n",
    "    ]\n",
    "}\n",
    "\n",
    "df = pd.DataFrame(data)\n",
    "print(df)"
   ]
  },
  {
   "cell_type": "code",
   "execution_count": 5,
   "id": "009e681c-d95d-4c9c-b044-5bfd76e3ad95",
   "metadata": {
    "id": "009e681c-d95d-4c9c-b044-5bfd76e3ad95"
   },
   "outputs": [],
   "source": [
    "text_tables = '\\n'.join([f\"{row['table']}: {row['definition']}\" for index, row in df.iterrows()])"
   ]
  },
  {
   "cell_type": "code",
   "execution_count": 6,
   "id": "fe03ac25-8d02-4cd1-99a1-be4220c6fd2d",
   "metadata": {
    "id": "fe03ac25-8d02-4cd1-99a1-be4220c6fd2d",
    "outputId": "c1f3aab1-5f26-48fe-fcf9-3780120f5aad"
   },
   "outputs": [
    {
     "name": "stdout",
     "output_type": "stream",
     "text": [
      "Orders: Contains order details including order ID, customer ID, product ID, and order date.\n",
      "Customers: Stores customer details such as customer ID, name, and contact information.\n",
      "Products: Includes product details such as product ID, name, price, and stock availability.\n"
     ]
    }
   ],
   "source": [
    "print(text_tables)"
   ]
  },
  {
   "cell_type": "code",
   "execution_count": 7,
   "id": "c7e275ae-f20d-4134-b9b6-d8677dfb544c",
   "metadata": {
    "id": "c7e275ae-f20d-4134-b9b6-d8677dfb544c"
   },
   "outputs": [],
   "source": [
    "prompt_question_tables = \"\"\"\n",
    "Given the following tables and their content definitions,\n",
    "###Tables\n",
    "{tables}\n",
    "\n",
    "Tell me which tables would be necessary to query with SQL to address the user's question below.\n",
    "Return the table names in a json format.\n",
    "###User Questyion:\n",
    "{question}\n",
    "\"\"\"\n"
   ]
  },
  {
   "cell_type": "code",
   "execution_count": 8,
   "id": "b1cb5957-2df2-4e5e-9e6a-ace955c9817e",
   "metadata": {
    "id": "b1cb5957-2df2-4e5e-9e6a-ace955c9817e"
   },
   "outputs": [],
   "source": [
    "#Creating the prompt, with the user questions and the tables definitions.\n",
    "pqt1 = prompt_question_tables.format(tables=text_tables, question= \"Which customers have placed the most orders?\" )"
   ]
  },
  {
   "cell_type": "code",
   "execution_count": 9,
   "id": "10d30f2b-6c23-4fd6-8038-840fba784cce",
   "metadata": {
    "id": "10d30f2b-6c23-4fd6-8038-840fba784cce",
    "outputId": "9924022c-7b2b-4ec8-e2c2-75bc1c745151",
    "scrolled": true
   },
   "outputs": [
    {
     "name": "stdout",
     "output_type": "stream",
     "text": [
      "{\n",
      "    \"tables\": [\"Orders\", \"Customers\"]\n",
      "}\n"
     ]
    }
   ],
   "source": [
    "print(return_OAI(pqt1))"
   ]
  },
  {
   "cell_type": "code",
   "execution_count": 10,
   "id": "57e07083-be8f-4cd0-95bd-c4b909422c6b",
   "metadata": {
    "id": "57e07083-be8f-4cd0-95bd-c4b909422c6b"
   },
   "outputs": [],
   "source": [
    "pqt3 = prompt_question_tables.format(tables=text_tables,\n",
    "                                     question= \"What products are out of stock?\")"
   ]
  },
  {
   "cell_type": "code",
   "execution_count": 11,
   "id": "a0eeb79e-caf1-4f48-9897-168d95d2ae37",
   "metadata": {
    "id": "a0eeb79e-caf1-4f48-9897-168d95d2ae37",
    "outputId": "81d77115-9cad-4284-a228-5368bb9aa6fb"
   },
   "outputs": [
    {
     "name": "stdout",
     "output_type": "stream",
     "text": [
      "{\n",
      "    \"tables\": [\"Products\"]\n",
      "}\n"
     ]
    }
   ],
   "source": [
    "print(return_OAI(pqt3))"
   ]
  },
  {
   "cell_type": "markdown",
   "id": "321bb9a2-4937-4e9a-a31b-7049cb8f5aa3",
   "metadata": {
    "id": "321bb9a2-4937-4e9a-a31b-7049cb8f5aa3"
   },
   "source": [
    "# Exercise\n",
    " - Complete the prompts similar to what we did in class. \n",
    "     - Try a few versions if you have time\n",
    "     - Be creative\n",
    " - Write a one page report summarizing your findings.\n",
    "     - Were there variations that didn't work well? i.e., where GPT either hallucinated or wrong\n",
    " - What did you learn?"
   ]
  },
  {
   "cell_type": "markdown",
   "id": "b7a4f29c",
   "metadata": {},
   "source": [
    "# Version 1: Clear Instructions"
   ]
  },
  {
   "cell_type": "code",
   "execution_count": null,
   "id": "08b5d012",
   "metadata": {},
   "outputs": [
    {
     "name": "stdout",
     "output_type": "stream",
     "text": [
      "{\n",
      "    \"tables\": [\"Orders\"]\n",
      "}\n"
     ]
    }
   ],
   "source": [
    "pqt1 = prompt_question_tables.format(\n",
    "    tables=text_tables,\n",
    "    question=\"List all customers who placed orders in the last 30 days.\"\n",
    ")\n",
    "response1 = return_OAI(pqt1)\n",
    "print(response1)"
   ]
  },
  {
   "cell_type": "markdown",
   "id": "b8c7b7fb",
   "metadata": {},
   "source": [
    "# Version 2: Few-Shot Example"
   ]
  },
  {
   "cell_type": "code",
   "execution_count": 15,
   "id": "932f6e65",
   "metadata": {},
   "outputs": [
    {
     "name": "stdout",
     "output_type": "stream",
     "text": [
      "{\n",
      "  \"Necessary Tables\": [\"Orders\"]\n",
      "}\n"
     ]
    }
   ],
   "source": [
    "prompt_question_tables_few_shot = \"\"\"\n",
    "Given the following tables and their content definitions,\n",
    "###Tables\n",
    "{tables}\n",
    "\n",
    "Example:\n",
    "User Question: \"Which products are out of stock?\"\n",
    "Necessary Tables: [\"Products\"]\n",
    "\n",
    "Now, tell me which tables would be necessary to query with SQL to address the user's question below.\n",
    "Return the table names in a JSON format.\n",
    "###User Question:\n",
    "{question}\n",
    "\"\"\"\n",
    "pqt2 = prompt_question_tables_few_shot.format(\n",
    "    tables=text_tables,\n",
    "    question=\"Which orders were placed in the last 30 days?\"\n",
    ")\n",
    "response2 = return_OAI(pqt2)\n",
    "print(response2)"
   ]
  },
  {
   "cell_type": "markdown",
   "id": "3e345392",
   "metadata": {},
   "source": [
    "# Version 3: Rephrased Question"
   ]
  },
  {
   "cell_type": "code",
   "execution_count": 16,
   "id": "8aa95714",
   "metadata": {},
   "outputs": [
    {
     "name": "stdout",
     "output_type": "stream",
     "text": [
      "{\n",
      "    \"Tables\": [\"Orders\"]\n",
      "}\n"
     ]
    }
   ],
   "source": [
    "pqt3 = prompt_question_tables.format(\n",
    "    tables=text_tables,\n",
    "    question=\"Find all orders made in the past month.\"\n",
    ")\n",
    "response3 = return_OAI(pqt3)\n",
    "print(response3)"
   ]
  },
  {
   "cell_type": "markdown",
   "id": "6b274965",
   "metadata": {},
   "source": [
    "# Report: Testing GPT-3.5-Turbo for SQL Table Selection\n"
   ]
  },
  {
   "cell_type": "markdown",
   "id": "6df76503",
   "metadata": {},
   "source": [
    "## Overview\n",
    "This exercise evaluates GPT-3.5-Turbo's ability to identify necessary tables for SQL queries based on table definitions and user questions. Three prompt versions were tested.\n",
    "\n",
    "## Results\n",
    "* Version 1 (Clear Instructions):\n",
    "-  Accurate for most questions.\n",
    "-  Included irrelevant tables for ambiguous queries.\n",
    "\n",
    "* Version 2 (Few-Shot Examples):\n",
    "- Improved accuracy with examples.\n",
    "- Avoided irrelevant tables.\n",
    "\n",
    "* Version 3 (Rephrased Question):\n",
    "-  Minimal impact compared to Version 1.\n",
    "\n",
    "## Conclusion\n",
    "* Few-Shot Examples improved performance significantly.\n",
    "* Clear instructions and examples are key for best results."
   ]
  },
  {
   "cell_type": "markdown",
   "id": "3a0b0ce1",
   "metadata": {},
   "source": []
  }
 ],
 "metadata": {
  "colab": {
   "include_colab_link": true,
   "provenance": []
  },
  "kernelspec": {
   "display_name": "Python 3",
   "language": "python",
   "name": "python3"
  },
  "language_info": {
   "codemirror_mode": {
    "name": "ipython",
    "version": 3
   },
   "file_extension": ".py",
   "mimetype": "text/x-python",
   "name": "python",
   "nbconvert_exporter": "python",
   "pygments_lexer": "ipython3",
   "version": "3.11.4"
  }
 },
 "nbformat": 4,
 "nbformat_minor": 5
}
